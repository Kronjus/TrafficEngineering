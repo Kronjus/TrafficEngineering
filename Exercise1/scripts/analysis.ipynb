{
 "cells": [
  {
   "cell_type": "code",
   "id": "initial_id",
   "metadata": {
    "collapsed": true,
    "ExecuteTime": {
     "end_time": "2025-10-08T13:27:08.479372Z",
     "start_time": "2025-10-08T13:27:08.473359Z"
    }
   },
   "source": [
    "import pandas as pd\n",
    "import numpy as np\n",
    "import matplotlib.pyplot as plt"
   ],
   "outputs": [],
   "execution_count": 21
  },
  {
   "metadata": {
    "ExecuteTime": {
     "end_time": "2025-10-08T13:24:27.593352Z",
     "start_time": "2025-10-08T13:24:27.569079Z"
    }
   },
   "cell_type": "code",
   "source": [
    "frame_df = pd.read_csv('../outputs/counts_per_frame.csv')\n",
    "frame_df['Density'] = frame_df['Vehicles'] / 0.092\n",
    "frame_df.head()"
   ],
   "id": "115b2d823e87051c",
   "outputs": [
    {
     "data": {
      "text/plain": [
       "   Frame  Vehicles     Density\n",
       "0      0        11  119.565217\n",
       "1      4        11  119.565217\n",
       "2      8        11  119.565217\n",
       "3     12        11  119.565217\n",
       "4     16        11  119.565217"
      ],
      "text/html": [
       "<div>\n",
       "<style scoped>\n",
       "    .dataframe tbody tr th:only-of-type {\n",
       "        vertical-align: middle;\n",
       "    }\n",
       "\n",
       "    .dataframe tbody tr th {\n",
       "        vertical-align: top;\n",
       "    }\n",
       "\n",
       "    .dataframe thead th {\n",
       "        text-align: right;\n",
       "    }\n",
       "</style>\n",
       "<table border=\"1\" class=\"dataframe\">\n",
       "  <thead>\n",
       "    <tr style=\"text-align: right;\">\n",
       "      <th></th>\n",
       "      <th>Frame</th>\n",
       "      <th>Vehicles</th>\n",
       "      <th>Density</th>\n",
       "    </tr>\n",
       "  </thead>\n",
       "  <tbody>\n",
       "    <tr>\n",
       "      <th>0</th>\n",
       "      <td>0</td>\n",
       "      <td>11</td>\n",
       "      <td>119.565217</td>\n",
       "    </tr>\n",
       "    <tr>\n",
       "      <th>1</th>\n",
       "      <td>4</td>\n",
       "      <td>11</td>\n",
       "      <td>119.565217</td>\n",
       "    </tr>\n",
       "    <tr>\n",
       "      <th>2</th>\n",
       "      <td>8</td>\n",
       "      <td>11</td>\n",
       "      <td>119.565217</td>\n",
       "    </tr>\n",
       "    <tr>\n",
       "      <th>3</th>\n",
       "      <td>12</td>\n",
       "      <td>11</td>\n",
       "      <td>119.565217</td>\n",
       "    </tr>\n",
       "    <tr>\n",
       "      <th>4</th>\n",
       "      <td>16</td>\n",
       "      <td>11</td>\n",
       "      <td>119.565217</td>\n",
       "    </tr>\n",
       "  </tbody>\n",
       "</table>\n",
       "</div>"
      ]
     },
     "execution_count": 15,
     "metadata": {},
     "output_type": "execute_result"
    }
   ],
   "execution_count": 15
  },
  {
   "metadata": {
    "ExecuteTime": {
     "end_time": "2025-10-08T13:24:29.917309Z",
     "start_time": "2025-10-08T13:24:29.894601Z"
    }
   },
   "cell_type": "code",
   "source": [
    "second_df = frame_df.copy()\n",
    "second_df['Seconds'] = second_df['Frame'] / 15\n",
    "second_df = second_df.drop(columns=['Frame'])\n",
    "second_df.head()"
   ],
   "id": "c84b6c7898279ac8",
   "outputs": [
    {
     "data": {
      "text/plain": [
       "   Vehicles     Density   Seconds\n",
       "0        11  119.565217  0.000000\n",
       "1        11  119.565217  0.266667\n",
       "2        11  119.565217  0.533333\n",
       "3        11  119.565217  0.800000\n",
       "4        11  119.565217  1.066667"
      ],
      "text/html": [
       "<div>\n",
       "<style scoped>\n",
       "    .dataframe tbody tr th:only-of-type {\n",
       "        vertical-align: middle;\n",
       "    }\n",
       "\n",
       "    .dataframe tbody tr th {\n",
       "        vertical-align: top;\n",
       "    }\n",
       "\n",
       "    .dataframe thead th {\n",
       "        text-align: right;\n",
       "    }\n",
       "</style>\n",
       "<table border=\"1\" class=\"dataframe\">\n",
       "  <thead>\n",
       "    <tr style=\"text-align: right;\">\n",
       "      <th></th>\n",
       "      <th>Vehicles</th>\n",
       "      <th>Density</th>\n",
       "      <th>Seconds</th>\n",
       "    </tr>\n",
       "  </thead>\n",
       "  <tbody>\n",
       "    <tr>\n",
       "      <th>0</th>\n",
       "      <td>11</td>\n",
       "      <td>119.565217</td>\n",
       "      <td>0.000000</td>\n",
       "    </tr>\n",
       "    <tr>\n",
       "      <th>1</th>\n",
       "      <td>11</td>\n",
       "      <td>119.565217</td>\n",
       "      <td>0.266667</td>\n",
       "    </tr>\n",
       "    <tr>\n",
       "      <th>2</th>\n",
       "      <td>11</td>\n",
       "      <td>119.565217</td>\n",
       "      <td>0.533333</td>\n",
       "    </tr>\n",
       "    <tr>\n",
       "      <th>3</th>\n",
       "      <td>11</td>\n",
       "      <td>119.565217</td>\n",
       "      <td>0.800000</td>\n",
       "    </tr>\n",
       "    <tr>\n",
       "      <th>4</th>\n",
       "      <td>11</td>\n",
       "      <td>119.565217</td>\n",
       "      <td>1.066667</td>\n",
       "    </tr>\n",
       "  </tbody>\n",
       "</table>\n",
       "</div>"
      ]
     },
     "execution_count": 16,
     "metadata": {},
     "output_type": "execute_result"
    }
   ],
   "execution_count": 16
  },
  {
   "metadata": {
    "ExecuteTime": {
     "end_time": "2025-10-08T13:24:31.349418Z",
     "start_time": "2025-10-08T13:24:31.312143Z"
    }
   },
   "cell_type": "code",
   "source": [
    "second_df['Time'] = pd.to_timedelta(second_df['Seconds'], unit='s')\n",
    "second_df = second_df.set_index('Time')\n",
    "second_df.head()"
   ],
   "id": "232328dd3f9c78a1",
   "outputs": [
    {
     "data": {
      "text/plain": [
       "                           Vehicles     Density   Seconds\n",
       "Time                                                     \n",
       "0 days 00:00:00                  11  119.565217  0.000000\n",
       "0 days 00:00:00.266666667        11  119.565217  0.266667\n",
       "0 days 00:00:00.533333332        11  119.565217  0.533333\n",
       "0 days 00:00:00.800000           11  119.565217  0.800000\n",
       "0 days 00:00:01.066666667        11  119.565217  1.066667"
      ],
      "text/html": [
       "<div>\n",
       "<style scoped>\n",
       "    .dataframe tbody tr th:only-of-type {\n",
       "        vertical-align: middle;\n",
       "    }\n",
       "\n",
       "    .dataframe tbody tr th {\n",
       "        vertical-align: top;\n",
       "    }\n",
       "\n",
       "    .dataframe thead th {\n",
       "        text-align: right;\n",
       "    }\n",
       "</style>\n",
       "<table border=\"1\" class=\"dataframe\">\n",
       "  <thead>\n",
       "    <tr style=\"text-align: right;\">\n",
       "      <th></th>\n",
       "      <th>Vehicles</th>\n",
       "      <th>Density</th>\n",
       "      <th>Seconds</th>\n",
       "    </tr>\n",
       "    <tr>\n",
       "      <th>Time</th>\n",
       "      <th></th>\n",
       "      <th></th>\n",
       "      <th></th>\n",
       "    </tr>\n",
       "  </thead>\n",
       "  <tbody>\n",
       "    <tr>\n",
       "      <th>0 days 00:00:00</th>\n",
       "      <td>11</td>\n",
       "      <td>119.565217</td>\n",
       "      <td>0.000000</td>\n",
       "    </tr>\n",
       "    <tr>\n",
       "      <th>0 days 00:00:00.266666667</th>\n",
       "      <td>11</td>\n",
       "      <td>119.565217</td>\n",
       "      <td>0.266667</td>\n",
       "    </tr>\n",
       "    <tr>\n",
       "      <th>0 days 00:00:00.533333332</th>\n",
       "      <td>11</td>\n",
       "      <td>119.565217</td>\n",
       "      <td>0.533333</td>\n",
       "    </tr>\n",
       "    <tr>\n",
       "      <th>0 days 00:00:00.800000</th>\n",
       "      <td>11</td>\n",
       "      <td>119.565217</td>\n",
       "      <td>0.800000</td>\n",
       "    </tr>\n",
       "    <tr>\n",
       "      <th>0 days 00:00:01.066666667</th>\n",
       "      <td>11</td>\n",
       "      <td>119.565217</td>\n",
       "      <td>1.066667</td>\n",
       "    </tr>\n",
       "  </tbody>\n",
       "</table>\n",
       "</div>"
      ]
     },
     "execution_count": 17,
     "metadata": {},
     "output_type": "execute_result"
    }
   ],
   "execution_count": 17
  },
  {
   "metadata": {
    "ExecuteTime": {
     "end_time": "2025-10-08T13:25:50.042114Z",
     "start_time": "2025-10-08T13:25:49.995019Z"
    }
   },
   "cell_type": "code",
   "source": [
    "resample_df = second_df.resample('1s').agg({'Vehicles': 'sum', 'Density': 'mean'}).reset_index()\n",
    "resample_df.head()"
   ],
   "id": "b4eddb3b541b79d0",
   "outputs": [
    {
     "data": {
      "text/plain": [
       "             Time  Vehicles     Density\n",
       "0 0 days 00:00:00        44  119.565217\n",
       "1 0 days 00:00:01        46  125.000000\n",
       "2 0 days 00:00:02        48  130.434783\n",
       "3 0 days 00:00:03        36  130.434783\n",
       "4 0 days 00:00:04        48  130.434783"
      ],
      "text/html": [
       "<div>\n",
       "<style scoped>\n",
       "    .dataframe tbody tr th:only-of-type {\n",
       "        vertical-align: middle;\n",
       "    }\n",
       "\n",
       "    .dataframe tbody tr th {\n",
       "        vertical-align: top;\n",
       "    }\n",
       "\n",
       "    .dataframe thead th {\n",
       "        text-align: right;\n",
       "    }\n",
       "</style>\n",
       "<table border=\"1\" class=\"dataframe\">\n",
       "  <thead>\n",
       "    <tr style=\"text-align: right;\">\n",
       "      <th></th>\n",
       "      <th>Time</th>\n",
       "      <th>Vehicles</th>\n",
       "      <th>Density</th>\n",
       "    </tr>\n",
       "  </thead>\n",
       "  <tbody>\n",
       "    <tr>\n",
       "      <th>0</th>\n",
       "      <td>0 days 00:00:00</td>\n",
       "      <td>44</td>\n",
       "      <td>119.565217</td>\n",
       "    </tr>\n",
       "    <tr>\n",
       "      <th>1</th>\n",
       "      <td>0 days 00:00:01</td>\n",
       "      <td>46</td>\n",
       "      <td>125.000000</td>\n",
       "    </tr>\n",
       "    <tr>\n",
       "      <th>2</th>\n",
       "      <td>0 days 00:00:02</td>\n",
       "      <td>48</td>\n",
       "      <td>130.434783</td>\n",
       "    </tr>\n",
       "    <tr>\n",
       "      <th>3</th>\n",
       "      <td>0 days 00:00:03</td>\n",
       "      <td>36</td>\n",
       "      <td>130.434783</td>\n",
       "    </tr>\n",
       "    <tr>\n",
       "      <th>4</th>\n",
       "      <td>0 days 00:00:04</td>\n",
       "      <td>48</td>\n",
       "      <td>130.434783</td>\n",
       "    </tr>\n",
       "  </tbody>\n",
       "</table>\n",
       "</div>"
      ]
     },
     "execution_count": 19,
     "metadata": {},
     "output_type": "execute_result"
    }
   ],
   "execution_count": 19
  },
  {
   "metadata": {
    "ExecuteTime": {
     "end_time": "2025-10-08T13:29:17.860933Z",
     "start_time": "2025-10-08T13:29:17.844460Z"
    }
   },
   "cell_type": "code",
   "source": [
    "resample_df['Flow'] = resample_df['Vehicles'] * 3600\n",
    "resample_df.head()"
   ],
   "id": "240a5daee3bcf9b6",
   "outputs": [
    {
     "data": {
      "text/plain": [
       "             Time  Vehicles     Density    Flow\n",
       "0 0 days 00:00:00        44  119.565217  158400\n",
       "1 0 days 00:00:01        46  125.000000  165600\n",
       "2 0 days 00:00:02        48  130.434783  172800\n",
       "3 0 days 00:00:03        36  130.434783  129600\n",
       "4 0 days 00:00:04        48  130.434783  172800"
      ],
      "text/html": [
       "<div>\n",
       "<style scoped>\n",
       "    .dataframe tbody tr th:only-of-type {\n",
       "        vertical-align: middle;\n",
       "    }\n",
       "\n",
       "    .dataframe tbody tr th {\n",
       "        vertical-align: top;\n",
       "    }\n",
       "\n",
       "    .dataframe thead th {\n",
       "        text-align: right;\n",
       "    }\n",
       "</style>\n",
       "<table border=\"1\" class=\"dataframe\">\n",
       "  <thead>\n",
       "    <tr style=\"text-align: right;\">\n",
       "      <th></th>\n",
       "      <th>Time</th>\n",
       "      <th>Vehicles</th>\n",
       "      <th>Density</th>\n",
       "      <th>Flow</th>\n",
       "    </tr>\n",
       "  </thead>\n",
       "  <tbody>\n",
       "    <tr>\n",
       "      <th>0</th>\n",
       "      <td>0 days 00:00:00</td>\n",
       "      <td>44</td>\n",
       "      <td>119.565217</td>\n",
       "      <td>158400</td>\n",
       "    </tr>\n",
       "    <tr>\n",
       "      <th>1</th>\n",
       "      <td>0 days 00:00:01</td>\n",
       "      <td>46</td>\n",
       "      <td>125.000000</td>\n",
       "      <td>165600</td>\n",
       "    </tr>\n",
       "    <tr>\n",
       "      <th>2</th>\n",
       "      <td>0 days 00:00:02</td>\n",
       "      <td>48</td>\n",
       "      <td>130.434783</td>\n",
       "      <td>172800</td>\n",
       "    </tr>\n",
       "    <tr>\n",
       "      <th>3</th>\n",
       "      <td>0 days 00:00:03</td>\n",
       "      <td>36</td>\n",
       "      <td>130.434783</td>\n",
       "      <td>129600</td>\n",
       "    </tr>\n",
       "    <tr>\n",
       "      <th>4</th>\n",
       "      <td>0 days 00:00:04</td>\n",
       "      <td>48</td>\n",
       "      <td>130.434783</td>\n",
       "      <td>172800</td>\n",
       "    </tr>\n",
       "  </tbody>\n",
       "</table>\n",
       "</div>"
      ]
     },
     "execution_count": 23,
     "metadata": {},
     "output_type": "execute_result"
    }
   ],
   "execution_count": 23
  },
  {
   "metadata": {
    "ExecuteTime": {
     "end_time": "2025-10-08T13:29:50.486293Z",
     "start_time": "2025-10-08T13:29:50.458484Z"
    }
   },
   "cell_type": "code",
   "source": "resample_df.describe()",
   "id": "efe6af222086fe9a",
   "outputs": [
    {
     "data": {
      "text/plain": [
       "                            Time     Vehicles      Density           Flow\n",
       "count                       5311  5311.000000  5311.000000    5311.000000\n",
       "mean             0 days 00:44:15    28.732254    83.293765  103436.113726\n",
       "std    0 days 00:25:33.297970606    10.501128    28.730563   37804.059989\n",
       "min              0 days 00:00:00     2.000000    10.869565    7200.000000\n",
       "25%       0 days 00:22:07.500000    24.000000    70.652174   86400.000000\n",
       "50%              0 days 00:44:15    31.000000    89.673913  111600.000000\n",
       "75%       0 days 01:06:22.500000    36.000000   103.260870  129600.000000\n",
       "max              0 days 01:28:30    48.000000   130.434783  172800.000000"
      ],
      "text/html": [
       "<div>\n",
       "<style scoped>\n",
       "    .dataframe tbody tr th:only-of-type {\n",
       "        vertical-align: middle;\n",
       "    }\n",
       "\n",
       "    .dataframe tbody tr th {\n",
       "        vertical-align: top;\n",
       "    }\n",
       "\n",
       "    .dataframe thead th {\n",
       "        text-align: right;\n",
       "    }\n",
       "</style>\n",
       "<table border=\"1\" class=\"dataframe\">\n",
       "  <thead>\n",
       "    <tr style=\"text-align: right;\">\n",
       "      <th></th>\n",
       "      <th>Time</th>\n",
       "      <th>Vehicles</th>\n",
       "      <th>Density</th>\n",
       "      <th>Flow</th>\n",
       "    </tr>\n",
       "  </thead>\n",
       "  <tbody>\n",
       "    <tr>\n",
       "      <th>count</th>\n",
       "      <td>5311</td>\n",
       "      <td>5311.000000</td>\n",
       "      <td>5311.000000</td>\n",
       "      <td>5311.000000</td>\n",
       "    </tr>\n",
       "    <tr>\n",
       "      <th>mean</th>\n",
       "      <td>0 days 00:44:15</td>\n",
       "      <td>28.732254</td>\n",
       "      <td>83.293765</td>\n",
       "      <td>103436.113726</td>\n",
       "    </tr>\n",
       "    <tr>\n",
       "      <th>std</th>\n",
       "      <td>0 days 00:25:33.297970606</td>\n",
       "      <td>10.501128</td>\n",
       "      <td>28.730563</td>\n",
       "      <td>37804.059989</td>\n",
       "    </tr>\n",
       "    <tr>\n",
       "      <th>min</th>\n",
       "      <td>0 days 00:00:00</td>\n",
       "      <td>2.000000</td>\n",
       "      <td>10.869565</td>\n",
       "      <td>7200.000000</td>\n",
       "    </tr>\n",
       "    <tr>\n",
       "      <th>25%</th>\n",
       "      <td>0 days 00:22:07.500000</td>\n",
       "      <td>24.000000</td>\n",
       "      <td>70.652174</td>\n",
       "      <td>86400.000000</td>\n",
       "    </tr>\n",
       "    <tr>\n",
       "      <th>50%</th>\n",
       "      <td>0 days 00:44:15</td>\n",
       "      <td>31.000000</td>\n",
       "      <td>89.673913</td>\n",
       "      <td>111600.000000</td>\n",
       "    </tr>\n",
       "    <tr>\n",
       "      <th>75%</th>\n",
       "      <td>0 days 01:06:22.500000</td>\n",
       "      <td>36.000000</td>\n",
       "      <td>103.260870</td>\n",
       "      <td>129600.000000</td>\n",
       "    </tr>\n",
       "    <tr>\n",
       "      <th>max</th>\n",
       "      <td>0 days 01:28:30</td>\n",
       "      <td>48.000000</td>\n",
       "      <td>130.434783</td>\n",
       "      <td>172800.000000</td>\n",
       "    </tr>\n",
       "  </tbody>\n",
       "</table>\n",
       "</div>"
      ]
     },
     "execution_count": 25,
     "metadata": {},
     "output_type": "execute_result"
    }
   ],
   "execution_count": 25
  }
 ],
 "metadata": {
  "kernelspec": {
   "display_name": "Python 3",
   "language": "python",
   "name": "python3"
  },
  "language_info": {
   "codemirror_mode": {
    "name": "ipython",
    "version": 2
   },
   "file_extension": ".py",
   "mimetype": "text/x-python",
   "name": "python",
   "nbconvert_exporter": "python",
   "pygments_lexer": "ipython2",
   "version": "2.7.6"
  }
 },
 "nbformat": 4,
 "nbformat_minor": 5
}
