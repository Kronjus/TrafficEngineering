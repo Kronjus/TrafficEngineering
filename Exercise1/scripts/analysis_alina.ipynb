{
 "cells": [
  {
   "metadata": {},
   "cell_type": "markdown",
   "source": "## Imports",
   "id": "3600ccc441cfd0c8"
  },
  {
   "metadata": {},
   "cell_type": "code",
   "source": [
    "import matplotlib.pyplot as plt\n",
    "import numpy as np\n",
    "import pandas as pd\n",
    "import geopandas as gpd\n",
    "from shapely.geometry import Point"
   ],
   "id": "c1909162d2038168",
   "outputs": [],
   "execution_count": null
  },
  {
   "metadata": {},
   "cell_type": "markdown",
   "source": "## Loading and merging data",
   "id": "516d0f38e5cfc1a"
  },
  {
   "metadata": {},
   "cell_type": "code",
   "source": [
    "FPS_1 = 60\n",
    "FPS_2 = 30\n",
    "\n",
    "start_time = pd.Timestamp('2025-10-06 18:00:00')\n",
    "df1 = pd.read_csv('../outputs/pipeline_run/tracks_video_1_60fps.csv')\n",
    "df2 = pd.read_csv('../outputs/pipeline_run/tracks_video_2_30fps.csv')\n",
    "df2['tracker_id'] = df2['tracker_id'] + df1['tracker_id'].max()\n",
    "df1['time_s'] = df1['frame'] / FPS_1\n",
    "df2['time_s'] = df2['frame'] / FPS_2\n",
    "df2['time_s'] = df2['time_s'] + 1 / 15 + df1['time_s'].max()\n",
    "df_combined = pd.concat([df1, df2], ignore_index=True)\n",
    "df_combined['timestamp'] = start_time + pd.to_timedelta(df_combined['time_s'], unit='s')\n",
    "df_track = df_combined.drop(\n",
    "    columns=['x_min', 'x_max', 'y_min', 'y_max', 'class_id', 'confidence', 'class_name', 'frame', 'time_s'])\n",
    "df_track.to_csv('../data/alina_data.csv', index=False)"
   ],
   "id": "8fbf1ee0524b14dc",
   "outputs": [],
   "execution_count": null
  },
  {
   "metadata": {},
   "cell_type": "markdown",
   "source": "## Computing speed for each unique tracker",
   "id": "95c44c377c54eef5"
  },
  {
   "metadata": {},
   "cell_type": "code",
   "source": [
    "lane = gpd.read_file(\"../data/lane.geojson\").to_crs(\"EPSG:2056\")\n",
    "geom = lane.geometry.iloc[0]\n",
    "L = geom.length"
   ],
   "id": "bc6d2c3f0b4f15e",
   "outputs": [],
   "execution_count": null
  },
  {
   "metadata": {},
   "cell_type": "code",
   "source": [
    "gpts = gpd.GeoSeries([Point(xy) for xy in df_track[[\"lv95_E\", \"lv95_N\"]].to_numpy()], crs=2056)\n",
    "\n",
    "df_track[\"s_m\"] = gpts.apply(geom.project)\n",
    "\n",
    "df_track[\"s_norm\"] = df_track[\"s_m\"] / L"
   ],
   "id": "b6bad8f48b3dac36",
   "outputs": [],
   "execution_count": null
  },
  {
   "metadata": {},
   "cell_type": "code",
   "source": [
    "# Sort properly\n",
    "df_track = df_track.sort_values([\"tracker_id\", \"timestamp\"])\n",
    "\n",
    "# Compute per-vehicle speed [m/s] using finite differences\n",
    "df_track[\"v_mps\"] = (\n",
    "        df_track.groupby(\"tracker_id\")[\"s_m\"].diff() /\n",
    "        df_track.groupby(\"tracker_id\")[\"timestamp\"].diff().dt.total_seconds()\n",
    ")\n",
    "\n",
    "# Remove NaNs or unrealistic values\n",
    "df_track[\"v_mps\"] = df_track[\"v_mps\"].clip(lower=0, upper=np.ceil(50 / 3.6))\n",
    "df_track[\"v_kph\"] = df_track[\"v_mps\"] * 3.6"
   ],
   "id": "76235b207f7bbd8f",
   "outputs": [],
   "execution_count": null
  },
  {
   "metadata": {},
   "cell_type": "code",
   "source": "",
   "id": "69b08c5d7894fa8d",
   "outputs": [],
   "execution_count": null
  },
  {
   "metadata": {},
   "cell_type": "code",
   "source": [
    "# --- parameters ---\n",
    "Δt = \"30s\"  # time bin size\n",
    "# choose a spatial segment; use whole lane or a subsegment\n",
    "s_lo, s_hi = 0.0, L  # or e.g. (L/2 - 50, L/2 + 50) for a 100 m segment\n",
    "L_seg = float(s_hi - s_lo)\n",
    "T_bin = pd.to_timedelta(Δt).total_seconds()\n",
    "\n",
    "# --- build per-vehicle intervals ---\n",
    "g = df_track.copy()\n",
    "g[\"timestamp\"] = pd.to_datetime(g[\"timestamp\"])\n",
    "g = g.sort_values([\"tracker_id\", \"timestamp\"])\n",
    "\n",
    "g[\"t_prev\"] = g.groupby(\"tracker_id\")[\"timestamp\"].shift()\n",
    "g[\"s_prev\"] = g.groupby(\"tracker_id\")[\"s_m\"].shift()\n",
    "\n",
    "g[\"dt\"] = (g[\"timestamp\"] - g[\"t_prev\"]).dt.total_seconds()\n",
    "g[\"ds\"] = g[\"s_m\"] - g[\"s_prev\"]\n",
    "\n",
    "# interval midpoints\n",
    "g[\"t_mid\"] = g[\"t_prev\"] + pd.to_timedelta(g[\"dt\"] / 2, unit=\"s\")\n",
    "g[\"s_mid\"] = g[\"s_prev\"] + g[\"ds\"] / 2\n",
    "\n",
    "# keep valid intervals (positive dt, reasonable speeds)\n",
    "g = g[(g[\"dt\"] > 0)]\n",
    "g[\"v_mps\"] = g[\"ds\"] / g[\"dt\"]\n",
    "g = g[(g[\"v_mps\"].abs() < 60)]  # cap |v| < 216 km/h; allow both directions if needed\n",
    "\n",
    "# restrict to spatial segment via midpoint test (Edie rectangle)\n",
    "g = g[(g[\"s_mid\"] >= s_lo) & (g[\"s_mid\"] < s_hi)].copy()\n",
    "\n",
    "# --- aggregate per time bin (Edie averages) ---\n",
    "# sum of time present and distance traveled for intervals whose midpoint is in the bin\n",
    "edie = (\n",
    "    g.set_index(\"t_mid\")\n",
    "    .groupby(pd.Grouper(freq=Δt))\n",
    "    .agg(\n",
    "        tau_sum_s=(\"dt\", \"sum\"),  # total vehicle-seconds inside rectangle\n",
    "        dist_sum_m=(\"ds\", lambda x: x.abs().sum()),  # total meters traveled inside rectangle\n",
    "    )\n",
    ")\n",
    "\n",
    "# normalize by rectangle size |A| = L_seg * T_bin\n",
    "edie[\"k_veh_per_m\"] = edie[\"tau_sum_s\"] / (L_seg * T_bin)\n",
    "edie[\"q_veh_per_s\"] = edie[\"dist_sum_m\"] / (L_seg * T_bin)\n",
    "\n",
    "# friendly units\n",
    "edie[\"density_veh_km\"] = edie[\"k_veh_per_m\"] * 1000.0\n",
    "edie[\"flow_veh_h\"] = edie[\"q_veh_per_s\"] * 3600.0\n",
    "# space-mean speed (and consistent with q = k*v)\n",
    "edie[\"mean_speed_mps\"] = np.where(edie[\"tau_sum_s\"] > 0, edie[\"dist_sum_m\"] / edie[\"tau_sum_s\"], np.nan)\n",
    "edie[\"mean_speed_kmh\"] = edie[\"mean_speed_mps\"] * 3.6\n",
    "\n",
    "# Optionally keep just the main outputs\n",
    "edie_out = edie[[\"flow_veh_h\", \"density_veh_km\", \"mean_speed_kmh\"]]\n",
    "edie_out"
   ],
   "id": "12c339848f81138a",
   "outputs": [],
   "execution_count": null
  },
  {
   "metadata": {},
   "cell_type": "code",
   "source": [
    "fig = px.scatter(\n",
    "    edie_out,\n",
    "    x=\"density_veh_km\",\n",
    "    y=\"flow_veh_h\",\n",
    "    labels={\"density_veh_km\": \"Density [veh/km]\", \"flow_veh_h\": \"Flow [veh/h]\"},\n",
    "    title=\"Scatterplot of Flow vs. Density\"\n",
    ")\n",
    "fig.show()"
   ],
   "id": "12a106417a5a0975",
   "outputs": [],
   "execution_count": null
  },
  {
   "metadata": {},
   "cell_type": "code",
   "source": "edie_out.mean()",
   "id": "ee4711b5a15eba01",
   "outputs": [],
   "execution_count": null
  },
  {
   "metadata": {},
   "cell_type": "code",
   "source": "edie_out.std()",
   "id": "d569234bb757e58",
   "outputs": [],
   "execution_count": null
  },
  {
   "metadata": {},
   "cell_type": "code",
   "source": [
    "fig = px.line(\n",
    "    df_track,\n",
    "    x=\"timestamp\",\n",
    "    y=\"s_m\",\n",
    "    color=\"tracker_id\",\n",
    "    labels={\"timestamp\": \"Time\", \"s_m\": \"Distance along lane [m]\", \"v_kph\": \"Velocity [km/h]\",\n",
    "            \"tracker_id\": \"Vehicle ID\"},\n",
    "    title=\"Time-Space Diagram (Each Track)\"\n",
    ")\n",
    "fig.update_traces(line=dict(width=1))\n",
    "fig.update_layout(showlegend=False)\n",
    "fig.show()"
   ],
   "id": "da6f47e9a7179fef",
   "outputs": [],
   "execution_count": null
  },
  {
   "metadata": {},
   "cell_type": "code",
   "source": "print(edie_out.describe().to_latex(float_format=\"{:.2f}\".format))",
   "id": "c8d06e465c69806",
   "outputs": [],
   "execution_count": null
  },
  {
   "metadata": {},
   "cell_type": "code",
   "source": "edie_out.to_csv('../data/edie_alina.csv')",
   "id": "20d339107482256e",
   "outputs": [],
   "execution_count": null
  },
  {
   "metadata": {},
   "cell_type": "code",
   "source": "edie_out",
   "id": "96a8944a45690714",
   "outputs": [],
   "execution_count": null
  }
 ],
 "metadata": {
  "kernelspec": {
   "display_name": "Python 3",
   "language": "python",
   "name": "python3"
  },
  "language_info": {
   "codemirror_mode": {
    "name": "ipython",
    "version": 2
   },
   "file_extension": ".py",
   "mimetype": "text/x-python",
   "name": "python",
   "nbconvert_exporter": "python",
   "pygments_lexer": "ipython2",
   "version": "2.7.6"
  }
 },
 "nbformat": 4,
 "nbformat_minor": 5
}
