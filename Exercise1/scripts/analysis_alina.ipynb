{
 "cells": [
  {
   "metadata": {},
   "cell_type": "markdown",
   "source": "## Imports",
   "id": "3600ccc441cfd0c8"
  },
  {
   "metadata": {
    "ExecuteTime": {
     "end_time": "2025-10-13T19:01:48.737545Z",
     "start_time": "2025-10-13T19:01:47.331885Z"
    }
   },
   "cell_type": "code",
   "source": [
    "import matplotlib.pyplot as plt\n",
    "import numpy as np\n",
    "import pandas as pd\n",
    "from sklearn.cluster import DBSCAN\n",
    "from scipy.spatial.distance import pdist"
   ],
   "id": "c1909162d2038168",
   "outputs": [],
   "execution_count": 1
  },
  {
   "metadata": {},
   "cell_type": "markdown",
   "source": "## Loading and merging data",
   "id": "516d0f38e5cfc1a"
  },
  {
   "metadata": {
    "ExecuteTime": {
     "end_time": "2025-10-13T21:21:29.756024Z",
     "start_time": "2025-10-13T21:21:29.283384Z"
    }
   },
   "cell_type": "code",
   "source": [
    "FPS_1 = 60\n",
    "FPS_2 = 30\n",
    "\n",
    "start_time = pd.Timestamp('2025-10-06 18:00:00')\n",
    "df1 = pd.read_csv('../outputs/pipeline_run/tracks_video_1_60fps.csv')\n",
    "df2 = pd.read_csv('../outputs/pipeline_run/tracks_video_2_30fps.csv')\n",
    "df2['frame'] = df1['frame'].max() + 2 + df2['frame']\n",
    "df2['tracker_id'] = df2['tracker_id'] + df1['tracker_id'].max()\n",
    "df1['time_s'] = df1['frame'] / FPS_1\n",
    "df2['time_s'] = df2['frame'] / FPS_2\n",
    "df_combined = pd.concat([df1, df2], ignore_index=True)\n",
    "df_combined['timestamp'] = start_time + pd.to_timedelta(df_combined['time_s'], unit='s')\n",
    "df_track = df_combined.drop(\n",
    "    columns=['x_min', 'x_max', 'y_min', 'y_max', 'class_id', 'confidence', 'class_name', 'frame', 'time_s'])\n",
    "df_track\n"
   ],
   "id": "8fbf1ee0524b14dc",
   "outputs": [
    {
     "data": {
      "text/plain": [
       "        tracker_id     lv95_E     lv95_N           timestamp\n",
       "0                1  2680854.2  1248089.4 2025-10-06 18:00:00\n",
       "1                2  2680871.8  1248076.8 2025-10-06 18:00:00\n",
       "2                3  2680877.2  1248072.2 2025-10-06 18:00:00\n",
       "3                4  2680881.8  1248067.9 2025-10-06 18:00:00\n",
       "4                5  2680846.8  1248093.6 2025-10-06 18:00:00\n",
       "...            ...        ...        ...                 ...\n",
       "362690       10553  2680876.2  1248075.4 2025-10-06 19:06:42\n",
       "362691       10650  2680864.8  1248084.1 2025-10-06 19:06:42\n",
       "362692       10694  2680849.2  1248095.1 2025-10-06 19:06:42\n",
       "362693       10697  2680838.5  1248102.9 2025-10-06 19:06:42\n",
       "362694       10709  2680828.0  1248109.1 2025-10-06 19:06:42\n",
       "\n",
       "[362695 rows x 4 columns]"
      ],
      "text/html": [
       "<div>\n",
       "<style scoped>\n",
       "    .dataframe tbody tr th:only-of-type {\n",
       "        vertical-align: middle;\n",
       "    }\n",
       "\n",
       "    .dataframe tbody tr th {\n",
       "        vertical-align: top;\n",
       "    }\n",
       "\n",
       "    .dataframe thead th {\n",
       "        text-align: right;\n",
       "    }\n",
       "</style>\n",
       "<table border=\"1\" class=\"dataframe\">\n",
       "  <thead>\n",
       "    <tr style=\"text-align: right;\">\n",
       "      <th></th>\n",
       "      <th>tracker_id</th>\n",
       "      <th>lv95_E</th>\n",
       "      <th>lv95_N</th>\n",
       "      <th>timestamp</th>\n",
       "    </tr>\n",
       "  </thead>\n",
       "  <tbody>\n",
       "    <tr>\n",
       "      <th>0</th>\n",
       "      <td>1</td>\n",
       "      <td>2680854.2</td>\n",
       "      <td>1248089.4</td>\n",
       "      <td>2025-10-06 18:00:00</td>\n",
       "    </tr>\n",
       "    <tr>\n",
       "      <th>1</th>\n",
       "      <td>2</td>\n",
       "      <td>2680871.8</td>\n",
       "      <td>1248076.8</td>\n",
       "      <td>2025-10-06 18:00:00</td>\n",
       "    </tr>\n",
       "    <tr>\n",
       "      <th>2</th>\n",
       "      <td>3</td>\n",
       "      <td>2680877.2</td>\n",
       "      <td>1248072.2</td>\n",
       "      <td>2025-10-06 18:00:00</td>\n",
       "    </tr>\n",
       "    <tr>\n",
       "      <th>3</th>\n",
       "      <td>4</td>\n",
       "      <td>2680881.8</td>\n",
       "      <td>1248067.9</td>\n",
       "      <td>2025-10-06 18:00:00</td>\n",
       "    </tr>\n",
       "    <tr>\n",
       "      <th>4</th>\n",
       "      <td>5</td>\n",
       "      <td>2680846.8</td>\n",
       "      <td>1248093.6</td>\n",
       "      <td>2025-10-06 18:00:00</td>\n",
       "    </tr>\n",
       "    <tr>\n",
       "      <th>...</th>\n",
       "      <td>...</td>\n",
       "      <td>...</td>\n",
       "      <td>...</td>\n",
       "      <td>...</td>\n",
       "    </tr>\n",
       "    <tr>\n",
       "      <th>362690</th>\n",
       "      <td>10553</td>\n",
       "      <td>2680876.2</td>\n",
       "      <td>1248075.4</td>\n",
       "      <td>2025-10-06 19:06:42</td>\n",
       "    </tr>\n",
       "    <tr>\n",
       "      <th>362691</th>\n",
       "      <td>10650</td>\n",
       "      <td>2680864.8</td>\n",
       "      <td>1248084.1</td>\n",
       "      <td>2025-10-06 19:06:42</td>\n",
       "    </tr>\n",
       "    <tr>\n",
       "      <th>362692</th>\n",
       "      <td>10694</td>\n",
       "      <td>2680849.2</td>\n",
       "      <td>1248095.1</td>\n",
       "      <td>2025-10-06 19:06:42</td>\n",
       "    </tr>\n",
       "    <tr>\n",
       "      <th>362693</th>\n",
       "      <td>10697</td>\n",
       "      <td>2680838.5</td>\n",
       "      <td>1248102.9</td>\n",
       "      <td>2025-10-06 19:06:42</td>\n",
       "    </tr>\n",
       "    <tr>\n",
       "      <th>362694</th>\n",
       "      <td>10709</td>\n",
       "      <td>2680828.0</td>\n",
       "      <td>1248109.1</td>\n",
       "      <td>2025-10-06 19:06:42</td>\n",
       "    </tr>\n",
       "  </tbody>\n",
       "</table>\n",
       "<p>362695 rows × 4 columns</p>\n",
       "</div>"
      ]
     },
     "execution_count": 55,
     "metadata": {},
     "output_type": "execute_result"
    }
   ],
   "execution_count": 55
  },
  {
   "metadata": {},
   "cell_type": "markdown",
   "source": "## Computing speed for each unique tracker",
   "id": "95c44c377c54eef5"
  },
  {
   "metadata": {
    "ExecuteTime": {
     "end_time": "2025-10-13T21:21:36.458657Z",
     "start_time": "2025-10-13T21:21:36.327529Z"
    }
   },
   "cell_type": "code",
   "source": [
    "# sorting the dataset so each vehicle's positions are ordered in time\n",
    "df_track = df_track.sort_values(['timestamp', 'tracker_id'])\n",
    "# for each vehicle, shift the coordinates by one time step forward\n",
    "# this creates a new column where each row holds the previous position of the vehicle\n",
    "df_track['lv95_E_shift'] = df_track.groupby('tracker_id')['lv95_E'].shift()\n",
    "df_track['lv95_N_shift'] = df_track.groupby('tracker_id')['lv95_N'].shift()\n",
    "# computing the time difference between the consecutive positions for each vehicle (in seconds)\n",
    "df_track['time_diff'] = (df_track['timestamp'] - df_track.groupby('tracker_id')['timestamp'].shift()).dt.total_seconds()\n",
    "# computing the euclidean distance between the consecutive positions (in meters)\n",
    "df_track['distance'] = np.sqrt(\n",
    "    (df_track['lv95_E'] - df_track['lv95_E_shift']) ** 2 +\n",
    "    (df_track['lv95_N'] - df_track['lv95_N_shift']) ** 2\n",
    ")\n",
    "# calculating instantaneous speed (in meters per second)\n",
    "df_track['speed_mps'] = df_track['distance'] / df_track['time_diff']\n",
    "# dropping first NaN rows (which have no previous point)\n",
    "df_track = df_track.dropna()\n",
    "# clipping unrealistic speeds (to remove tracking noise/outliers)\n",
    "# between about 0 and 43 km/h\n",
    "df_track['speed_mps'] = df_track['speed_mps'].clip(lower=0, upper=12)\n",
    "df_track['speed_kmh'] = df_track['speed_mps'] * 3.6\n",
    "df_track\n"
   ],
   "id": "c248dc59b6769e50",
   "outputs": [
    {
     "data": {
      "text/plain": [
       "        tracker_id     lv95_E     lv95_N                     timestamp  \\\n",
       "13               1  2680854.2  1248089.4 2025-10-06 18:00:00.066666667   \n",
       "14               2  2680871.8  1248076.8 2025-10-06 18:00:00.066666667   \n",
       "15               3  2680877.2  1248072.2 2025-10-06 18:00:00.066666667   \n",
       "16               4  2680881.8  1248067.9 2025-10-06 18:00:00.066666667   \n",
       "17               5  2680846.8  1248093.6 2025-10-06 18:00:00.066666667   \n",
       "...            ...        ...        ...                           ...   \n",
       "362690       10553  2680876.2  1248075.4 2025-10-06 19:06:42.000000000   \n",
       "362691       10650  2680864.8  1248084.1 2025-10-06 19:06:42.000000000   \n",
       "362692       10694  2680849.2  1248095.1 2025-10-06 19:06:42.000000000   \n",
       "362693       10697  2680838.5  1248102.9 2025-10-06 19:06:42.000000000   \n",
       "362694       10709  2680828.0  1248109.1 2025-10-06 19:06:42.000000000   \n",
       "\n",
       "        lv95_E_shift  lv95_N_shift  time_diff  distance  speed_mps  speed_kmh  \n",
       "13         2680854.2     1248089.4   0.066667  0.000000   0.000000   0.000000  \n",
       "14         2680871.8     1248076.8   0.066667  0.000000   0.000000   0.000000  \n",
       "15         2680877.2     1248072.2   0.066667  0.000000   0.000000   0.000000  \n",
       "16         2680881.8     1248067.9   0.066667  0.000000   0.000000   0.000000  \n",
       "17         2680846.8     1248093.6   0.066667  0.000000   0.000000   0.000000  \n",
       "...              ...           ...        ...       ...        ...        ...  \n",
       "362690     2680876.2     1248075.5   0.066667  0.100000   1.500000   5.400000  \n",
       "362691     2680864.8     1248084.2   0.066667  0.100000   1.500000   5.400000  \n",
       "362692     2680849.0     1248095.2   0.066667  0.223607   3.354102  12.074767  \n",
       "362693     2680838.2     1248102.9   0.066667  0.300000   4.500000  16.200000  \n",
       "362694     2680827.8     1248109.2   0.066667  0.223607   3.354102  12.074767  \n",
       "\n",
       "[356199 rows x 10 columns]"
      ],
      "text/html": [
       "<div>\n",
       "<style scoped>\n",
       "    .dataframe tbody tr th:only-of-type {\n",
       "        vertical-align: middle;\n",
       "    }\n",
       "\n",
       "    .dataframe tbody tr th {\n",
       "        vertical-align: top;\n",
       "    }\n",
       "\n",
       "    .dataframe thead th {\n",
       "        text-align: right;\n",
       "    }\n",
       "</style>\n",
       "<table border=\"1\" class=\"dataframe\">\n",
       "  <thead>\n",
       "    <tr style=\"text-align: right;\">\n",
       "      <th></th>\n",
       "      <th>tracker_id</th>\n",
       "      <th>lv95_E</th>\n",
       "      <th>lv95_N</th>\n",
       "      <th>timestamp</th>\n",
       "      <th>lv95_E_shift</th>\n",
       "      <th>lv95_N_shift</th>\n",
       "      <th>time_diff</th>\n",
       "      <th>distance</th>\n",
       "      <th>speed_mps</th>\n",
       "      <th>speed_kmh</th>\n",
       "    </tr>\n",
       "  </thead>\n",
       "  <tbody>\n",
       "    <tr>\n",
       "      <th>13</th>\n",
       "      <td>1</td>\n",
       "      <td>2680854.2</td>\n",
       "      <td>1248089.4</td>\n",
       "      <td>2025-10-06 18:00:00.066666667</td>\n",
       "      <td>2680854.2</td>\n",
       "      <td>1248089.4</td>\n",
       "      <td>0.066667</td>\n",
       "      <td>0.000000</td>\n",
       "      <td>0.000000</td>\n",
       "      <td>0.000000</td>\n",
       "    </tr>\n",
       "    <tr>\n",
       "      <th>14</th>\n",
       "      <td>2</td>\n",
       "      <td>2680871.8</td>\n",
       "      <td>1248076.8</td>\n",
       "      <td>2025-10-06 18:00:00.066666667</td>\n",
       "      <td>2680871.8</td>\n",
       "      <td>1248076.8</td>\n",
       "      <td>0.066667</td>\n",
       "      <td>0.000000</td>\n",
       "      <td>0.000000</td>\n",
       "      <td>0.000000</td>\n",
       "    </tr>\n",
       "    <tr>\n",
       "      <th>15</th>\n",
       "      <td>3</td>\n",
       "      <td>2680877.2</td>\n",
       "      <td>1248072.2</td>\n",
       "      <td>2025-10-06 18:00:00.066666667</td>\n",
       "      <td>2680877.2</td>\n",
       "      <td>1248072.2</td>\n",
       "      <td>0.066667</td>\n",
       "      <td>0.000000</td>\n",
       "      <td>0.000000</td>\n",
       "      <td>0.000000</td>\n",
       "    </tr>\n",
       "    <tr>\n",
       "      <th>16</th>\n",
       "      <td>4</td>\n",
       "      <td>2680881.8</td>\n",
       "      <td>1248067.9</td>\n",
       "      <td>2025-10-06 18:00:00.066666667</td>\n",
       "      <td>2680881.8</td>\n",
       "      <td>1248067.9</td>\n",
       "      <td>0.066667</td>\n",
       "      <td>0.000000</td>\n",
       "      <td>0.000000</td>\n",
       "      <td>0.000000</td>\n",
       "    </tr>\n",
       "    <tr>\n",
       "      <th>17</th>\n",
       "      <td>5</td>\n",
       "      <td>2680846.8</td>\n",
       "      <td>1248093.6</td>\n",
       "      <td>2025-10-06 18:00:00.066666667</td>\n",
       "      <td>2680846.8</td>\n",
       "      <td>1248093.6</td>\n",
       "      <td>0.066667</td>\n",
       "      <td>0.000000</td>\n",
       "      <td>0.000000</td>\n",
       "      <td>0.000000</td>\n",
       "    </tr>\n",
       "    <tr>\n",
       "      <th>...</th>\n",
       "      <td>...</td>\n",
       "      <td>...</td>\n",
       "      <td>...</td>\n",
       "      <td>...</td>\n",
       "      <td>...</td>\n",
       "      <td>...</td>\n",
       "      <td>...</td>\n",
       "      <td>...</td>\n",
       "      <td>...</td>\n",
       "      <td>...</td>\n",
       "    </tr>\n",
       "    <tr>\n",
       "      <th>362690</th>\n",
       "      <td>10553</td>\n",
       "      <td>2680876.2</td>\n",
       "      <td>1248075.4</td>\n",
       "      <td>2025-10-06 19:06:42.000000000</td>\n",
       "      <td>2680876.2</td>\n",
       "      <td>1248075.5</td>\n",
       "      <td>0.066667</td>\n",
       "      <td>0.100000</td>\n",
       "      <td>1.500000</td>\n",
       "      <td>5.400000</td>\n",
       "    </tr>\n",
       "    <tr>\n",
       "      <th>362691</th>\n",
       "      <td>10650</td>\n",
       "      <td>2680864.8</td>\n",
       "      <td>1248084.1</td>\n",
       "      <td>2025-10-06 19:06:42.000000000</td>\n",
       "      <td>2680864.8</td>\n",
       "      <td>1248084.2</td>\n",
       "      <td>0.066667</td>\n",
       "      <td>0.100000</td>\n",
       "      <td>1.500000</td>\n",
       "      <td>5.400000</td>\n",
       "    </tr>\n",
       "    <tr>\n",
       "      <th>362692</th>\n",
       "      <td>10694</td>\n",
       "      <td>2680849.2</td>\n",
       "      <td>1248095.1</td>\n",
       "      <td>2025-10-06 19:06:42.000000000</td>\n",
       "      <td>2680849.0</td>\n",
       "      <td>1248095.2</td>\n",
       "      <td>0.066667</td>\n",
       "      <td>0.223607</td>\n",
       "      <td>3.354102</td>\n",
       "      <td>12.074767</td>\n",
       "    </tr>\n",
       "    <tr>\n",
       "      <th>362693</th>\n",
       "      <td>10697</td>\n",
       "      <td>2680838.5</td>\n",
       "      <td>1248102.9</td>\n",
       "      <td>2025-10-06 19:06:42.000000000</td>\n",
       "      <td>2680838.2</td>\n",
       "      <td>1248102.9</td>\n",
       "      <td>0.066667</td>\n",
       "      <td>0.300000</td>\n",
       "      <td>4.500000</td>\n",
       "      <td>16.200000</td>\n",
       "    </tr>\n",
       "    <tr>\n",
       "      <th>362694</th>\n",
       "      <td>10709</td>\n",
       "      <td>2680828.0</td>\n",
       "      <td>1248109.1</td>\n",
       "      <td>2025-10-06 19:06:42.000000000</td>\n",
       "      <td>2680827.8</td>\n",
       "      <td>1248109.2</td>\n",
       "      <td>0.066667</td>\n",
       "      <td>0.223607</td>\n",
       "      <td>3.354102</td>\n",
       "      <td>12.074767</td>\n",
       "    </tr>\n",
       "  </tbody>\n",
       "</table>\n",
       "<p>356199 rows × 10 columns</p>\n",
       "</div>"
      ]
     },
     "execution_count": 56,
     "metadata": {},
     "output_type": "execute_result"
    }
   ],
   "execution_count": 56
  },
  {
   "metadata": {
    "ExecuteTime": {
     "end_time": "2025-10-13T21:21:39.527938Z",
     "start_time": "2025-10-13T21:21:39.512878Z"
    }
   },
   "cell_type": "code",
   "source": [
    "avg_speed = df_track['speed_kmh'].mean()\n",
    "print(f\"Average speed: {avg_speed:.2f} km/h\")\n",
    "std_speed = df_track['speed_kmh'].std()\n",
    "print(f\"Speed standard deviation: {std_speed:.2f} km/h\")"
   ],
   "id": "3471ff52b604e5e8",
   "outputs": [
    {
     "name": "stdout",
     "output_type": "stream",
     "text": [
      "Average speed: 3.70 km/h\n",
      "Speed standard deviation: 6.11 km/h\n"
     ]
    }
   ],
   "execution_count": 57
  },
  {
   "metadata": {},
   "cell_type": "markdown",
   "source": "## Identifying and cluster stationary vehicles by time",
   "id": "be62c5a13fb1faa8"
  },
  {
   "metadata": {
    "ExecuteTime": {
     "end_time": "2025-10-13T21:21:43.766307Z",
     "start_time": "2025-10-13T21:21:42.108490Z"
    }
   },
   "cell_type": "code",
   "source": [
    "# filtering vehicles that are moving slower than 0.5 m/s (1.8 km/h)\n",
    "stationary = df_track[df_track['speed_mps'] < 0.5].copy()\n",
    "# rounding down timestamps to the nearest minute --> all stationary detections between 18:00:00–18:00:59 are grouped together\n",
    "stationary['minute'] = stationary['timestamp'].dt.floor('1min')\n",
    "# this function takes all stationary points within the same minute and finds which ones are close enough in space to form a queue (cluster)\n",
    "def cluster_by_time(group):\n",
    "    coords = group[['lv95_E', 'lv95_N']].to_numpy()\n",
    "    # eps=5 is the maximum distance (in meters) between two vehicles\n",
    "    # min_samples=2 means that at least two vehicles are needed to form a queue\n",
    "    clustering = DBSCAN(eps=5, min_samples=2).fit(coords)\n",
    "    group['queue_id'] = clustering.labels_\n",
    "    return group\n",
    "\n",
    "stationary = stationary.groupby('minute', group_keys=False).apply(cluster_by_time)"
   ],
   "id": "dcedbc383c95e0fd",
   "outputs": [
    {
     "name": "stderr",
     "output_type": "stream",
     "text": [
      "/var/folders/jl/z1yzws1j03nb_304st2rkm_m0000gn/T/ipykernel_83702/44138145.py:14: FutureWarning: DataFrameGroupBy.apply operated on the grouping columns. This behavior is deprecated, and in a future version of pandas the grouping columns will be excluded from the operation. Either pass `include_groups=False` to exclude the groupings or explicitly select the grouping columns after groupby to silence this warning.\n",
      "  stationary = stationary.groupby('minute', group_keys=False).apply(cluster_by_time)\n"
     ]
    }
   ],
   "execution_count": 58
  },
  {
   "metadata": {},
   "cell_type": "markdown",
   "source": "## Calculating queue sizes and maximum queue length",
   "id": "372c774dd18154a4"
  },
  {
   "metadata": {
    "ExecuteTime": {
     "end_time": "2025-10-13T21:21:50.225461Z",
     "start_time": "2025-10-13T21:21:48.574923Z"
    }
   },
   "cell_type": "code",
   "source": [
    "# approximating the queue length (distance between the first and last vehicle in the queue)\n",
    "def queue_length_m(group):\n",
    "    coords = group[['lv95_E', 'lv95_N']].to_numpy()\n",
    "    if len(coords) < 2:\n",
    "        return 0\n",
    "    return pdist(coords).max() # max pairwise distance in meters\n",
    "\n",
    "# grouping by time and queue\n",
    "queue_lengths = (\n",
    "    stationary[stationary['queue_id'] >= 0]\n",
    "    .groupby(['minute', 'queue_id'])\n",
    "    .apply(queue_length_m)\n",
    "    .reset_index(name='queue_length_m')\n",
    ")\n",
    "\n",
    "# computing the maximum and average queue length\n",
    "max_queue_length_m = queue_lengths['queue_length_m'].max()\n",
    "avg_queue_length_m = queue_lengths['queue_length_m'].mean()\n",
    "std_queue_length_m = queue_lengths['queue_length_m'].std()\n",
    "\n",
    "print(f\"Maximum queue length: {max_queue_length_m:.2f} m\")\n",
    "print(f\"Average queue length: {avg_queue_length_m:.2f} m\")\n",
    "print(f\"Queue length standard deviation: {std_queue_length_m:.2f} m\")"
   ],
   "id": "d568384973621df3",
   "outputs": [
    {
     "name": "stdout",
     "output_type": "stream",
     "text": [
      "Maximum queue length: 86.75 m\n",
      "Average queue length: 50.46 m\n",
      "Queue length standard deviation: 38.75 m\n"
     ]
    },
    {
     "name": "stderr",
     "output_type": "stream",
     "text": [
      "/var/folders/jl/z1yzws1j03nb_304st2rkm_m0000gn/T/ipykernel_83702/1536409833.py:12: FutureWarning: DataFrameGroupBy.apply operated on the grouping columns. This behavior is deprecated, and in a future version of pandas the grouping columns will be excluded from the operation. Either pass `include_groups=False` to exclude the groupings or explicitly select the grouping columns after groupby to silence this warning.\n",
      "  .apply(queue_length_m)\n"
     ]
    }
   ],
   "execution_count": 59
  },
  {
   "metadata": {},
   "cell_type": "markdown",
   "source": "## Calculating average time spent in the queue",
   "id": "709686ff3876530d"
  },
  {
   "metadata": {
    "ExecuteTime": {
     "end_time": "2025-10-13T21:21:53.269469Z",
     "start_time": "2025-10-13T21:21:53.207877Z"
    }
   },
   "cell_type": "code",
   "source": [
    "in_queue = stationary[stationary['queue_id'] >= 0]\n",
    "time_in_queue = (\n",
    "    in_queue.groupby('tracker_id')['minute']\n",
    "    .agg(['min', 'max'])\n",
    "    .assign(duration=lambda x: (x['max'] - x['min']).dt.total_seconds())\n",
    ")\n",
    "avg_time_in_queue = time_in_queue['duration'].mean()\n",
    "std_time_in_queue = time_in_queue['duration'].std()\n",
    "print(f\"Average time in queue: {avg_time_in_queue:.2f} minutes\")\n",
    "print(f\"Time in queue standard deviation: {std_time_in_queue:.2f} minutes\")"
   ],
   "id": "8b708b3220721869",
   "outputs": [
    {
     "name": "stdout",
     "output_type": "stream",
     "text": [
      "Average time in queue: 3.50 minutes\n",
      "Time in queue standard deviation: 17.13 minutes\n"
     ]
    }
   ],
   "execution_count": 60
  },
  {
   "metadata": {},
   "cell_type": "markdown",
   "source": "## Visualizing queue length over time and displaying average queue duration",
   "id": "dd08b8e9d7183b35"
  },
  {
   "metadata": {
    "ExecuteTime": {
     "end_time": "2025-10-13T21:21:56.642633Z",
     "start_time": "2025-10-13T21:21:56.504938Z"
    }
   },
   "cell_type": "code",
   "source": [
    "ts_max = (queue_lengths\n",
    "          .groupby('minute', as_index=False)['queue_length_m']\n",
    "          .max())\n",
    "\n",
    "plt.figure(figsize=(12, 7))\n",
    "plt.plot(ts_max['minute'], ts_max['queue_length_m'], linewidth=2)\n",
    "plt.title('Maximum Queue Length Over Time')\n",
    "plt.xlabel('Time')\n",
    "plt.ylabel('Queue length [m]')\n",
    "plt.grid()\n",
    "plt.tight_layout()\n",
    "plt.show()"
   ],
   "id": "e77abcabfa83d0ec",
   "outputs": [
    {
     "data": {
      "text/plain": [
       "<Figure size 1200x700 with 1 Axes>"
      ],
      "image/png": "[encoded data removed]"
     },
     "metadata": {},
     "output_type": "display_data"
    }
   ],
   "execution_count": 61
  },
  {
   "metadata": {},
   "cell_type": "code",
   "outputs": [],
   "execution_count": null,
   "source": "",
   "id": "3717e3c258bb1699"
  }
 ],
 "metadata": {
  "kernelspec": {
   "display_name": "Python 3",
   "language": "python",
   "name": "python3"
  },
  "language_info": {
   "codemirror_mode": {
    "name": "ipython",
    "version": 2
   },
   "file_extension": ".py",
   "mimetype": "text/x-python",
   "name": "python",
   "nbconvert_exporter": "python",
   "pygments_lexer": "ipython2",
   "version": "2.7.6"
  }
 },
 "nbformat": 4,
 "nbformat_minor": 5
}
