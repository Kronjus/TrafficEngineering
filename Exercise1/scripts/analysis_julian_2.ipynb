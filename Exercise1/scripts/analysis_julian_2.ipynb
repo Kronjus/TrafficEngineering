{
 "cells": [
  {
   "metadata": {},
   "cell_type": "code",
   "source": [
    "import matplotlib.pyplot as plt\n",
    "import numpy as np\n",
    "import pandas as pd\n",
    "import geopandas as gpd\n",
    "from shapely import Point, LineString\n",
    "from scipy.optimize import curve_fit"
   ],
   "id": "a1477d54f22f6f28",
   "outputs": [],
   "execution_count": null
  },
  {
   "metadata": {},
   "cell_type": "code",
   "source": [
    "start_time = pd.Timestamp('2025-10-08 18:00:00')\n",
    "df1 = pd.read_csv('../outputs/pipeline_run/tracks_video_3_24fps.csv')\n",
    "df2 = pd.read_csv('../outputs/pipeline_run/tracks_video_4_24fps.csv')\n",
    "df2['frame'] = df1['frame'].max() + 2 + df2['frame']\n",
    "df2['tracker_id'] = df2['tracker_id'] + df1['tracker_id'].max()\n",
    "df_combined = pd.concat([df1, df2], ignore_index=True)\n",
    "df_combined['second'] = df_combined['frame'] / 24\n",
    "df_combined['timestamp'] = start_time + pd.to_timedelta(df_combined['second'], unit='s')\n",
    "df_track = df_combined.drop(\n",
    "    columns=['x_min', 'x_max', 'y_min', 'y_max', 'class_id', 'confidence', 'class_name', 'frame', 'second'])\n",
    "df_track"
   ],
   "id": "91bd60397f3c6909",
   "outputs": [],
   "execution_count": null
  },
  {
   "metadata": {},
   "cell_type": "code",
   "source": [
    "lane = gpd.read_file(\"../data/lane.geojson\").to_crs(\"EPSG:2056\")\n",
    "geom = lane.geometry.iloc[0]\n",
    "L = geom.length"
   ],
   "id": "911986503450389",
   "outputs": [],
   "execution_count": null
  },
  {
   "metadata": {},
   "cell_type": "code",
   "source": [
    "gpts = gpd.GeoSeries([Point(xy) for xy in df_track[[\"lv95_E\", \"lv95_N\"]].to_numpy()], crs=2056)\n",
    "\n",
    "df_track[\"s_m\"] = gpts.apply(geom.project)\n",
    "\n",
    "df_track[\"s_norm\"] = df_track[\"s_m\"] / L"
   ],
   "id": "ca05e1e3c7091fb0",
   "outputs": [],
   "execution_count": null
  },
  {
   "metadata": {},
   "cell_type": "code",
   "source": [
    "# Sort properly\n",
    "df_track = df_track.sort_values([\"tracker_id\", \"timestamp\"])\n",
    "\n",
    "# Compute per-vehicle speed [m/s] using finite differences\n",
    "df_track[\"v_mps\"] = (\n",
    "        df_track.groupby(\"tracker_id\")[\"s_m\"].diff() /\n",
    "        df_track.groupby(\"tracker_id\")[\"timestamp\"].diff().dt.total_seconds()\n",
    ")\n",
    "\n",
    "# Remove NaNs or unrealistic values\n",
    "df_track[\"v_mps\"] = df_track[\"v_mps\"].clip(lower=0, upper=np.ceil(50 / 3.6))\n",
    "df_track[\"v_kph\"] = df_track[\"v_mps\"] * 3.6"
   ],
   "id": "66f6bb74c34bcfcd",
   "outputs": [],
   "execution_count": null
  },
  {
   "metadata": {},
   "cell_type": "code",
   "source": [
    "# --- parameters ---\n",
    "Δt = \"30s\"  # time bin size\n",
    "# choose a spatial segment; use whole lane or a subsegment\n",
    "s_lo, s_hi = 0.0, L  # or e.g. (L/2 - 50, L/2 + 50) for a 100 m segment\n",
    "L_seg = float(s_hi - s_lo)\n",
    "T_bin = pd.to_timedelta(Δt).total_seconds()\n",
    "\n",
    "# --- build per-vehicle intervals ---\n",
    "g = df_track.copy()\n",
    "g[\"timestamp\"] = pd.to_datetime(g[\"timestamp\"])\n",
    "g = g.sort_values([\"tracker_id\", \"timestamp\"])\n",
    "\n",
    "g[\"t_prev\"] = g.groupby(\"tracker_id\")[\"timestamp\"].shift()\n",
    "g[\"s_prev\"] = g.groupby(\"tracker_id\")[\"s_m\"].shift()\n",
    "\n",
    "g[\"dt\"] = (g[\"timestamp\"] - g[\"t_prev\"]).dt.total_seconds()\n",
    "g[\"ds\"] = g[\"s_m\"] - g[\"s_prev\"]\n",
    "\n",
    "# interval midpoints\n",
    "g[\"t_mid\"] = g[\"t_prev\"] + pd.to_timedelta(g[\"dt\"] / 2, unit=\"s\")\n",
    "g[\"s_mid\"] = g[\"s_prev\"] + g[\"ds\"] / 2\n",
    "\n",
    "# keep valid intervals (positive dt, reasonable speeds)\n",
    "g = g[(g[\"dt\"] > 0)]\n",
    "g[\"v_mps\"] = g[\"ds\"] / g[\"dt\"]\n",
    "g = g[(g[\"v_mps\"].abs() < 60)]  # cap |v| < 216 km/h; allow both directions if needed\n",
    "\n",
    "# restrict to spatial segment via midpoint test (Edie rectangle)\n",
    "g = g[(g[\"s_mid\"] >= s_lo) & (g[\"s_mid\"] < s_hi)].copy()\n",
    "\n",
    "# --- aggregate per time bin (Edie averages) ---\n",
    "# sum of time present and distance traveled for intervals whose midpoint is in the bin\n",
    "edie = (\n",
    "    g.set_index(\"t_mid\")\n",
    "    .groupby(pd.Grouper(freq=Δt))\n",
    "    .agg(\n",
    "        tau_sum_s=(\"dt\", \"sum\"),  # total vehicle-seconds inside rectangle\n",
    "        dist_sum_m=(\"ds\", lambda x: x.abs().sum()),  # total meters traveled inside rectangle\n",
    "    )\n",
    ")\n",
    "\n",
    "# normalize by rectangle size |A| = L_seg * T_bin\n",
    "edie[\"k_veh_per_m\"] = edie[\"tau_sum_s\"] / (L_seg * T_bin)\n",
    "edie[\"q_veh_per_s\"] = edie[\"dist_sum_m\"] / (L_seg * T_bin)\n",
    "\n",
    "# friendly units\n",
    "edie[\"density_veh_km\"] = edie[\"k_veh_per_m\"] * 1000.0\n",
    "edie[\"flow_veh_h\"] = edie[\"q_veh_per_s\"] * 3600.0\n",
    "# space-mean speed (and consistent with q = k*v)\n",
    "edie[\"mean_speed_mps\"] = np.where(edie[\"tau_sum_s\"] > 0, edie[\"dist_sum_m\"] / edie[\"tau_sum_s\"], np.nan)\n",
    "edie[\"mean_speed_kmh\"] = edie[\"mean_speed_mps\"] * 3.6\n",
    "\n",
    "# Optionally keep just the main outputs\n",
    "edie_out = edie[[\"flow_veh_h\", \"density_veh_km\", \"mean_speed_kmh\"]]\n",
    "edie_out"
   ],
   "id": "7c5028de0a64b218",
   "outputs": [],
   "execution_count": null
  },
  {
   "metadata": {},
   "cell_type": "code",
   "source": [
    "fig = plt.figure(figsize=(12, 7))\n",
    "plt.scatter(edie_out[\"density_veh_km\"], edie_out[\"flow_veh_h\"])\n",
    "plt.xlabel(\"Density [veh/km]\")\n",
    "plt.ylabel(\"Flow [veh/h]\")\n",
    "plt.title(\"Flow vs. Density Plot\")\n",
    "plt.grid()\n",
    "plt.tight_layout()\n",
    "plt.show()"
   ],
   "id": "1a6b4965ff4a0afc",
   "outputs": [],
   "execution_count": null
  },
  {
   "metadata": {},
   "cell_type": "code",
   "source": "edie_out.mean()",
   "id": "b3c7c4c5675f1a59",
   "outputs": [],
   "execution_count": null
  },
  {
   "metadata": {},
   "cell_type": "code",
   "source": "edie_out.std()",
   "id": "9a81a9fb2316f31f",
   "outputs": [],
   "execution_count": null
  },
  {
   "metadata": {},
   "cell_type": "code",
   "source": [
    "import plotly.express as px\n",
    "\n",
    "fig = px.line(\n",
    "    df_track,\n",
    "    x=\"timestamp\",\n",
    "    y=\"s_m\",\n",
    "    color=\"tracker_id\",\n",
    "    labels={\"timestamp\": \"Time\", \"s_m\": \"Distance along lane [m]\", \"v_kph\": \"Velocity [km/h]\",\n",
    "            \"tracker_id\": \"Vehicle ID\"},\n",
    "    title=\"Time-Space Diagram (Each Track)\"\n",
    ")\n",
    "fig.update_traces(line=dict(width=1))\n",
    "fig.update_layout(showlegend=False)\n",
    "fig.show()"
   ],
   "id": "9071f64d7d2eae00",
   "outputs": [],
   "execution_count": null
  },
  {
   "metadata": {},
   "cell_type": "code",
   "source": "",
   "id": "3f2ede54b2978eb",
   "outputs": [],
   "execution_count": null
  },
  {
   "metadata": {},
   "cell_type": "code",
   "source": "df_track",
   "id": "ac871c703c098e85",
   "outputs": [],
   "execution_count": null
  }
 ],
 "metadata": {
  "kernelspec": {
   "display_name": "Python 3",
   "language": "python",
   "name": "python3"
  },
  "language_info": {
   "codemirror_mode": {
    "name": "ipython",
    "version": 2
   },
   "file_extension": ".py",
   "mimetype": "text/x-python",
   "name": "python",
   "nbconvert_exporter": "python",
   "pygments_lexer": "ipython2",
   "version": "2.7.6"
  }
 },
 "nbformat": 4,
 "nbformat_minor": 5
}
