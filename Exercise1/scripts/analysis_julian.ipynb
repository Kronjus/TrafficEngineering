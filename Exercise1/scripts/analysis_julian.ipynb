{
 "cells": [
  {
   "metadata": {},
   "cell_type": "markdown",
   "source": "### Prepare imports",
   "id": "410ceeff846208ad"
  },
  {
   "cell_type": "code",
   "id": "initial_id",
   "metadata": {
    "collapsed": true,
    "ExecuteTime": {
     "end_time": "2025-10-13T17:38:14.058854Z",
     "start_time": "2025-10-13T17:38:12.105002Z"
    }
   },
   "source": [
    "import matplotlib.pyplot as plt\n",
    "import numpy as np\n",
    "import pandas as pd\n",
    "from sklearn.cluster import DBSCAN\n",
    "from scipy.spatial.distance import pdist"
   ],
   "outputs": [],
   "execution_count": 1
  },
  {
   "metadata": {},
   "cell_type": "markdown",
   "source": [
    "### Load and combine tracking data from two CSV files\n",
    "\n",
    "- Set the starting timestamp for the experiment.\n",
    "- Load two CSV files containing tracking data from different videos.\n",
    "- Adjust the `frame` and `tracker_id` columns in the second DataFrame to avoid overlaps.\n",
    "- Concatenate both DataFrames into a single DataFrame.\n",
    "- Compute the elapsed seconds and absolute timestamps for each frame.\n",
    "- Drop unnecessary columns to create the final tracking DataFrame (`df_track`)."
   ],
   "id": "93ecf5566cd7a4b4"
  },
  {
   "metadata": {
    "ExecuteTime": {
     "end_time": "2025-10-13T17:38:14.416837Z",
     "start_time": "2025-10-13T17:38:14.065861Z"
    }
   },
   "cell_type": "code",
   "source": [
    "start_time = pd.Timestamp('2025-10-08 18:00:00')\n",
    "df1 = pd.read_csv('../outputs/pipeline_run/tracks_video_3_24fps.csv')\n",
    "df2 = pd.read_csv('../outputs/pipeline_run/tracks_video_4_24fps.csv')\n",
    "df2['frame'] = df1['frame'].max() + 2 + df2['frame']\n",
    "df2['tracker_id'] = df2['tracker_id'] + df1['tracker_id'].max()\n",
    "df_combined = pd.concat([df1, df2], ignore_index=True)\n",
    "df_combined['second'] = df_combined['frame'] / 24\n",
    "df_combined['timestamp'] = start_time + pd.to_timedelta(df_combined['second'], unit='s')\n",
    "df_track = df_combined.drop(\n",
    "    columns=['x_min', 'x_max', 'y_min', 'y_max', 'class_id', 'confidence', 'class_name', 'frame', 'second'])\n",
    "df_track"
   ],
   "id": "a0012bcf64e63444",
   "outputs": [
    {
     "data": {
      "text/plain": [
       "        tracker_id     lv95_E     lv95_N               timestamp\n",
       "0                1  2680856.5  1248087.4 2025-10-08 18:00:00.000\n",
       "1                2  2680842.8  1248096.2 2025-10-08 18:00:00.000\n",
       "2                3  2680875.8  1248074.6 2025-10-08 18:00:00.000\n",
       "3                4  2680826.5  1248106.8 2025-10-08 18:00:00.000\n",
       "4                5  2680849.8  1248092.2 2025-10-08 18:00:00.000\n",
       "...            ...        ...        ...                     ...\n",
       "300322        7295  2680848.5  1248092.0 2025-10-08 18:43:49.250\n",
       "300323        7321  2680837.2  1248099.5 2025-10-08 18:43:49.250\n",
       "300324        7373  2680827.0  1248106.2 2025-10-08 18:43:49.250\n",
       "300325        7086  2680872.0  1248074.6 2025-10-08 18:43:49.250\n",
       "300326        7387  2680858.0  1248084.8 2025-10-08 18:43:49.250\n",
       "\n",
       "[300327 rows x 4 columns]"
      ],
      "text/html": [
       "<div>\n",
       "<style scoped>\n",
       "    .dataframe tbody tr th:only-of-type {\n",
       "        vertical-align: middle;\n",
       "    }\n",
       "\n",
       "    .dataframe tbody tr th {\n",
       "        vertical-align: top;\n",
       "    }\n",
       "\n",
       "    .dataframe thead th {\n",
       "        text-align: right;\n",
       "    }\n",
       "</style>\n",
       "<table border=\"1\" class=\"dataframe\">\n",
       "  <thead>\n",
       "    <tr style=\"text-align: right;\">\n",
       "      <th></th>\n",
       "      <th>tracker_id</th>\n",
       "      <th>lv95_E</th>\n",
       "      <th>lv95_N</th>\n",
       "      <th>timestamp</th>\n",
       "    </tr>\n",
       "  </thead>\n",
       "  <tbody>\n",
       "    <tr>\n",
       "      <th>0</th>\n",
       "      <td>1</td>\n",
       "      <td>2680856.5</td>\n",
       "      <td>1248087.4</td>\n",
       "      <td>2025-10-08 18:00:00.000</td>\n",
       "    </tr>\n",
       "    <tr>\n",
       "      <th>1</th>\n",
       "      <td>2</td>\n",
       "      <td>2680842.8</td>\n",
       "      <td>1248096.2</td>\n",
       "      <td>2025-10-08 18:00:00.000</td>\n",
       "    </tr>\n",
       "    <tr>\n",
       "      <th>2</th>\n",
       "      <td>3</td>\n",
       "      <td>2680875.8</td>\n",
       "      <td>1248074.6</td>\n",
       "      <td>2025-10-08 18:00:00.000</td>\n",
       "    </tr>\n",
       "    <tr>\n",
       "      <th>3</th>\n",
       "      <td>4</td>\n",
       "      <td>2680826.5</td>\n",
       "      <td>1248106.8</td>\n",
       "      <td>2025-10-08 18:00:00.000</td>\n",
       "    </tr>\n",
       "    <tr>\n",
       "      <th>4</th>\n",
       "      <td>5</td>\n",
       "      <td>2680849.8</td>\n",
       "      <td>1248092.2</td>\n",
       "      <td>2025-10-08 18:00:00.000</td>\n",
       "    </tr>\n",
       "    <tr>\n",
       "      <th>...</th>\n",
       "      <td>...</td>\n",
       "      <td>...</td>\n",
       "      <td>...</td>\n",
       "      <td>...</td>\n",
       "    </tr>\n",
       "    <tr>\n",
       "      <th>300322</th>\n",
       "      <td>7295</td>\n",
       "      <td>2680848.5</td>\n",
       "      <td>1248092.0</td>\n",
       "      <td>2025-10-08 18:43:49.250</td>\n",
       "    </tr>\n",
       "    <tr>\n",
       "      <th>300323</th>\n",
       "      <td>7321</td>\n",
       "      <td>2680837.2</td>\n",
       "      <td>1248099.5</td>\n",
       "      <td>2025-10-08 18:43:49.250</td>\n",
       "    </tr>\n",
       "    <tr>\n",
       "      <th>300324</th>\n",
       "      <td>7373</td>\n",
       "      <td>2680827.0</td>\n",
       "      <td>1248106.2</td>\n",
       "      <td>2025-10-08 18:43:49.250</td>\n",
       "    </tr>\n",
       "    <tr>\n",
       "      <th>300325</th>\n",
       "      <td>7086</td>\n",
       "      <td>2680872.0</td>\n",
       "      <td>1248074.6</td>\n",
       "      <td>2025-10-08 18:43:49.250</td>\n",
       "    </tr>\n",
       "    <tr>\n",
       "      <th>300326</th>\n",
       "      <td>7387</td>\n",
       "      <td>2680858.0</td>\n",
       "      <td>1248084.8</td>\n",
       "      <td>2025-10-08 18:43:49.250</td>\n",
       "    </tr>\n",
       "  </tbody>\n",
       "</table>\n",
       "<p>300327 rows × 4 columns</p>\n",
       "</div>"
      ]
     },
     "execution_count": 2,
     "metadata": {},
     "output_type": "execute_result"
    }
   ],
   "execution_count": 2
  },
  {
   "metadata": {},
   "cell_type": "markdown",
   "source": [
    "### Compute instantaneous speed for each tracker\n",
    "\n",
    "- Sort the tracking DataFrame by `timestamp` and `tracker_id`.\n",
    "- For each tracker, shift the LV95 coordinates to align each row with its previous position.\n",
    "- Calculate the time difference between consecutive positions for each tracker.\n",
    "- Compute the Euclidean distance between consecutive positions.\n",
    "- Calculate the instantaneous speed (in meters per second) for each tracker by dividing the distance by the time difference."
   ],
   "id": "d499ac966ff6fadd"
  },
  {
   "metadata": {
    "ExecuteTime": {
     "end_time": "2025-10-13T17:38:14.542336Z",
     "start_time": "2025-10-13T17:38:14.451869Z"
    }
   },
   "cell_type": "code",
   "source": [
    "df_track = df_track.sort_values(['timestamp', 'tracker_id'])\n",
    "\n",
    "df_track['lv95_E_shift'] = df_track.groupby('tracker_id')['lv95_E'].shift()\n",
    "df_track['lv95_N_shift'] = df_track.groupby('tracker_id')['lv95_N'].shift()\n",
    "df_track['time_diff'] = (df_track['timestamp'] - df_track.groupby('tracker_id')['timestamp'].shift()).dt.total_seconds()\n",
    "\n",
    "df_track['distance'] = np.sqrt(\n",
    "    (df_track['lv95_E'] - df_track['lv95_E_shift']) ** 2 + (df_track['lv95_N'] - df_track['lv95_N_shift']) ** 2)\n",
    "df_track['speed_mps'] = df_track['distance'] / df_track['time_diff']\n",
    "df_track = df_track.dropna()\n",
    "df_track['speed_mps'] = df_track['speed_mps'].clip(lower=0, upper=12)\n",
    "df_track"
   ],
   "id": "1a97c8c1739880a6",
   "outputs": [
    {
     "data": {
      "text/plain": [
       "        tracker_id     lv95_E     lv95_N                     timestamp  \\\n",
       "11               1  2680856.5  1248087.4 2025-10-08 18:00:00.083333333   \n",
       "12               2  2680842.8  1248096.2 2025-10-08 18:00:00.083333333   \n",
       "13               3  2680875.8  1248074.6 2025-10-08 18:00:00.083333333   \n",
       "14               4  2680826.5  1248106.8 2025-10-08 18:00:00.083333333   \n",
       "15               5  2680849.8  1248092.2 2025-10-08 18:00:00.083333333   \n",
       "...            ...        ...        ...                           ...   \n",
       "300321        7182  2680858.0  1248084.8 2025-10-08 18:43:49.250000000   \n",
       "300322        7295  2680848.5  1248092.0 2025-10-08 18:43:49.250000000   \n",
       "300323        7321  2680837.2  1248099.5 2025-10-08 18:43:49.250000000   \n",
       "300324        7373  2680827.0  1248106.2 2025-10-08 18:43:49.250000000   \n",
       "300326        7387  2680858.0  1248084.8 2025-10-08 18:43:49.250000000   \n",
       "\n",
       "        lv95_E_shift  lv95_N_shift  time_diff  distance  speed_mps  \n",
       "11         2680856.5     1248087.4   0.083333  0.000000   0.000000  \n",
       "12         2680842.8     1248096.2   0.083333  0.000000   0.000000  \n",
       "13         2680875.8     1248074.6   0.083333  0.000000   0.000000  \n",
       "14         2680826.5     1248106.8   0.083333  0.000000   0.000000  \n",
       "15         2680849.8     1248092.2   0.083333  0.000000   0.000000  \n",
       "...              ...           ...        ...       ...        ...  \n",
       "300321     2680858.0     1248084.8   0.083333  0.000000   0.000000  \n",
       "300322     2680848.2     1248092.1   0.083333  0.316228   3.794733  \n",
       "300323     2680837.2     1248099.6   0.083333  0.100000   1.200000  \n",
       "300324     2680827.0     1248106.2   0.083333  0.000000   0.000000  \n",
       "300326     2680858.0     1248084.8   0.083333  0.000000   0.000000  \n",
       "\n",
       "[296365 rows x 9 columns]"
      ],
      "text/html": [
       "<div>\n",
       "<style scoped>\n",
       "    .dataframe tbody tr th:only-of-type {\n",
       "        vertical-align: middle;\n",
       "    }\n",
       "\n",
       "    .dataframe tbody tr th {\n",
       "        vertical-align: top;\n",
       "    }\n",
       "\n",
       "    .dataframe thead th {\n",
       "        text-align: right;\n",
       "    }\n",
       "</style>\n",
       "<table border=\"1\" class=\"dataframe\">\n",
       "  <thead>\n",
       "    <tr style=\"text-align: right;\">\n",
       "      <th></th>\n",
       "      <th>tracker_id</th>\n",
       "      <th>lv95_E</th>\n",
       "      <th>lv95_N</th>\n",
       "      <th>timestamp</th>\n",
       "      <th>lv95_E_shift</th>\n",
       "      <th>lv95_N_shift</th>\n",
       "      <th>time_diff</th>\n",
       "      <th>distance</th>\n",
       "      <th>speed_mps</th>\n",
       "    </tr>\n",
       "  </thead>\n",
       "  <tbody>\n",
       "    <tr>\n",
       "      <th>11</th>\n",
       "      <td>1</td>\n",
       "      <td>2680856.5</td>\n",
       "      <td>1248087.4</td>\n",
       "      <td>2025-10-08 18:00:00.083333333</td>\n",
       "      <td>2680856.5</td>\n",
       "      <td>1248087.4</td>\n",
       "      <td>0.083333</td>\n",
       "      <td>0.000000</td>\n",
       "      <td>0.000000</td>\n",
       "    </tr>\n",
       "    <tr>\n",
       "      <th>12</th>\n",
       "      <td>2</td>\n",
       "      <td>2680842.8</td>\n",
       "      <td>1248096.2</td>\n",
       "      <td>2025-10-08 18:00:00.083333333</td>\n",
       "      <td>2680842.8</td>\n",
       "      <td>1248096.2</td>\n",
       "      <td>0.083333</td>\n",
       "      <td>0.000000</td>\n",
       "      <td>0.000000</td>\n",
       "    </tr>\n",
       "    <tr>\n",
       "      <th>13</th>\n",
       "      <td>3</td>\n",
       "      <td>2680875.8</td>\n",
       "      <td>1248074.6</td>\n",
       "      <td>2025-10-08 18:00:00.083333333</td>\n",
       "      <td>2680875.8</td>\n",
       "      <td>1248074.6</td>\n",
       "      <td>0.083333</td>\n",
       "      <td>0.000000</td>\n",
       "      <td>0.000000</td>\n",
       "    </tr>\n",
       "    <tr>\n",
       "      <th>14</th>\n",
       "      <td>4</td>\n",
       "      <td>2680826.5</td>\n",
       "      <td>1248106.8</td>\n",
       "      <td>2025-10-08 18:00:00.083333333</td>\n",
       "      <td>2680826.5</td>\n",
       "      <td>1248106.8</td>\n",
       "      <td>0.083333</td>\n",
       "      <td>0.000000</td>\n",
       "      <td>0.000000</td>\n",
       "    </tr>\n",
       "    <tr>\n",
       "      <th>15</th>\n",
       "      <td>5</td>\n",
       "      <td>2680849.8</td>\n",
       "      <td>1248092.2</td>\n",
       "      <td>2025-10-08 18:00:00.083333333</td>\n",
       "      <td>2680849.8</td>\n",
       "      <td>1248092.2</td>\n",
       "      <td>0.083333</td>\n",
       "      <td>0.000000</td>\n",
       "      <td>0.000000</td>\n",
       "    </tr>\n",
       "    <tr>\n",
       "      <th>...</th>\n",
       "      <td>...</td>\n",
       "      <td>...</td>\n",
       "      <td>...</td>\n",
       "      <td>...</td>\n",
       "      <td>...</td>\n",
       "      <td>...</td>\n",
       "      <td>...</td>\n",
       "      <td>...</td>\n",
       "      <td>...</td>\n",
       "    </tr>\n",
       "    <tr>\n",
       "      <th>300321</th>\n",
       "      <td>7182</td>\n",
       "      <td>2680858.0</td>\n",
       "      <td>1248084.8</td>\n",
       "      <td>2025-10-08 18:43:49.250000000</td>\n",
       "      <td>2680858.0</td>\n",
       "      <td>1248084.8</td>\n",
       "      <td>0.083333</td>\n",
       "      <td>0.000000</td>\n",
       "      <td>0.000000</td>\n",
       "    </tr>\n",
       "    <tr>\n",
       "      <th>300322</th>\n",
       "      <td>7295</td>\n",
       "      <td>2680848.5</td>\n",
       "      <td>1248092.0</td>\n",
       "      <td>2025-10-08 18:43:49.250000000</td>\n",
       "      <td>2680848.2</td>\n",
       "      <td>1248092.1</td>\n",
       "      <td>0.083333</td>\n",
       "      <td>0.316228</td>\n",
       "      <td>3.794733</td>\n",
       "    </tr>\n",
       "    <tr>\n",
       "      <th>300323</th>\n",
       "      <td>7321</td>\n",
       "      <td>2680837.2</td>\n",
       "      <td>1248099.5</td>\n",
       "      <td>2025-10-08 18:43:49.250000000</td>\n",
       "      <td>2680837.2</td>\n",
       "      <td>1248099.6</td>\n",
       "      <td>0.083333</td>\n",
       "      <td>0.100000</td>\n",
       "      <td>1.200000</td>\n",
       "    </tr>\n",
       "    <tr>\n",
       "      <th>300324</th>\n",
       "      <td>7373</td>\n",
       "      <td>2680827.0</td>\n",
       "      <td>1248106.2</td>\n",
       "      <td>2025-10-08 18:43:49.250000000</td>\n",
       "      <td>2680827.0</td>\n",
       "      <td>1248106.2</td>\n",
       "      <td>0.083333</td>\n",
       "      <td>0.000000</td>\n",
       "      <td>0.000000</td>\n",
       "    </tr>\n",
       "    <tr>\n",
       "      <th>300326</th>\n",
       "      <td>7387</td>\n",
       "      <td>2680858.0</td>\n",
       "      <td>1248084.8</td>\n",
       "      <td>2025-10-08 18:43:49.250000000</td>\n",
       "      <td>2680858.0</td>\n",
       "      <td>1248084.8</td>\n",
       "      <td>0.083333</td>\n",
       "      <td>0.000000</td>\n",
       "      <td>0.000000</td>\n",
       "    </tr>\n",
       "  </tbody>\n",
       "</table>\n",
       "<p>296365 rows × 9 columns</p>\n",
       "</div>"
      ]
     },
     "execution_count": 3,
     "metadata": {},
     "output_type": "execute_result"
    }
   ],
   "execution_count": 3
  },
  {
   "metadata": {},
   "cell_type": "markdown",
   "source": [
    "### Identify and cluster stationary vehicles by time\n",
    "\n",
    "- Filter out stationary points where the instantaneous speed is less than 0.5 m/s.\n",
    "- Define a function to cluster stationary vehicles based on their spatial coordinates using DBSCAN for each time group.\n",
    "- Assign a `queue_id` to each detected cluster.\n",
    "- Add a new column for the floored minute of each timestamp.\n",
    "- Apply the clustering function to each minute group to identify vehicle queues over time."
   ],
   "id": "a8425501124e3632"
  },
  {
   "metadata": {
    "ExecuteTime": {
     "end_time": "2025-10-13T17:38:16.693859Z",
     "start_time": "2025-10-13T17:38:14.921696Z"
    }
   },
   "cell_type": "code",
   "source": [
    "stationary = df_track[df_track['speed_mps'] < 0.5].copy()\n",
    "stationary['minute'] = stationary['timestamp'].dt.floor('1min')\n",
    "\n",
    "\n",
    "def cluster_by_time(group):\n",
    "    coords = group[['lv95_E', 'lv95_N']].to_numpy()\n",
    "    clustering = DBSCAN(eps=5, min_samples=2).fit(coords)\n",
    "    group['queue_id'] = clustering.labels_\n",
    "    return group\n",
    "\n",
    "\n",
    "stationary = stationary.groupby('minute', group_keys=False).apply(cluster_by_time)"
   ],
   "id": "9a4695a372c7b63d",
   "outputs": [
    {
     "name": "stderr",
     "output_type": "stream",
     "text": [
      "C:\\Users\\jj\\AppData\\Local\\Temp\\ipykernel_56900\\2518537564.py:10: FutureWarning: DataFrameGroupBy.apply operated on the grouping columns. This behavior is deprecated, and in a future version of pandas the grouping columns will be excluded from the operation. Either pass `include_groups=False` to exclude the groupings or explicitly select the grouping columns after groupby to silence this warning.\n",
      "  stationary = stationary.groupby('minute', group_keys=False).apply(cluster_by_time)\n"
     ]
    }
   ],
   "execution_count": 4
  },
  {
   "metadata": {},
   "cell_type": "markdown",
   "source": [
    "### Calculate queue sizes and maximum queue length\n",
    "\n",
    "- For each minute and detected queue, count the number of unique trackers (vehicles) present.\n",
    "- Store the result as `queue_sizes`, representing the size of each queue per minute.\n",
    "- Determine the maximum queue length observed across all time intervals."
   ],
   "id": "62e36d6c237043ce"
  },
  {
   "metadata": {
    "ExecuteTime": {
     "end_time": "2025-10-13T17:38:21.364726Z",
     "start_time": "2025-10-13T17:38:19.520287Z"
    }
   },
   "cell_type": "code",
   "source": [
    "def queue_length_m(group):\n",
    "    coords = group[['lv95_E', 'lv95_N']].to_numpy()\n",
    "    if len(coords) < 2:\n",
    "        return 0.0\n",
    "    return pdist(coords).max()  # max pairwise distance in meters\n",
    "\n",
    "\n",
    "queue_lengths = (\n",
    "    stationary[stationary['queue_id'] >= 0]\n",
    "    .groupby(['minute', 'queue_id'])\n",
    "    .apply(queue_length_m)\n",
    "    .reset_index(name='queue_length_m')\n",
    ")\n",
    "\n",
    "max_queue_length_m = queue_lengths['queue_length_m'].max()\n",
    "\n",
    "avg_queue_length_m = queue_lengths['queue_length_m'].mean()\n",
    "print(max_queue_length_m)\n",
    "print(avg_queue_length_m)"
   ],
   "id": "b907cb363e99b0b9",
   "outputs": [
    {
     "name": "stdout",
     "output_type": "stream",
     "text": [
      "85.3814968247524\n",
      "68.71637063466085\n"
     ]
    },
    {
     "name": "stderr",
     "output_type": "stream",
     "text": [
      "C:\\Users\\jj\\AppData\\Local\\Temp\\ipykernel_56900\\4068560369.py:10: FutureWarning: DataFrameGroupBy.apply operated on the grouping columns. This behavior is deprecated, and in a future version of pandas the grouping columns will be excluded from the operation. Either pass `include_groups=False` to exclude the groupings or explicitly select the grouping columns after groupby to silence this warning.\n",
      "  .apply(queue_length_m)\n"
     ]
    }
   ],
   "execution_count": 5
  },
  {
   "metadata": {},
   "cell_type": "markdown",
   "source": [
    "### Calculate average time spent in queue per tracker\n",
    "\n",
    "- Select all time entries where each tracker was assigned to a queue (`queue_id` >= 0).\n",
    "- For each tracker, determine the first and last minute they were in a queue.\n",
    "- Calculate the duration each tracker spent in a queue as the difference between the last and first minute.\n",
    "- Compute the average queue duration across all trackers."
   ],
   "id": "185d7705b6e848b6"
  },
  {
   "metadata": {
    "ExecuteTime": {
     "end_time": "2025-10-13T17:38:21.390836Z",
     "start_time": "2025-10-13T17:38:21.369239Z"
    }
   },
   "cell_type": "code",
   "source": [
    "in_queue = stationary[stationary['queue_id'] >= 0]\n",
    "time_in_queue = (\n",
    "    in_queue.groupby('tracker_id')['minute']\n",
    "    .agg(['min', 'max'])\n",
    "    .assign(duration=lambda x: (x['max'] - x['min']).dt.total_seconds())\n",
    ")\n",
    "avg_time_in_queue = time_in_queue['duration'].mean()"
   ],
   "id": "1ead9294c74c01cb",
   "outputs": [],
   "execution_count": 6
  },
  {
   "metadata": {},
   "cell_type": "markdown",
   "source": [
    "### Visualize queue length over time and display average queue duration\n",
    "\n",
    "- Plot the maximum queue length for each minute to visualize how queue sizes change over time.\n",
    "- Label the axes and add a title for clarity.\n",
    "- Display the average time vehicles spent in a queue."
   ],
   "id": "499a96611ed6dbf8"
  },
  {
   "metadata": {
    "ExecuteTime": {
     "end_time": "2025-10-13T17:39:58.380368Z",
     "start_time": "2025-10-13T17:39:58.235720Z"
    }
   },
   "cell_type": "code",
   "source": [
    "ts_max = (queue_lengths\n",
    "          .groupby('minute', as_index=False)['queue_length_m']\n",
    "          .max())\n",
    "\n",
    "plt.figure(figsize=(12, 7))\n",
    "plt.plot(ts_max['minute'], ts_max['queue_length_m'], linewidth=2)\n",
    "plt.title('Maximum Queue Length Over Time')\n",
    "plt.xlabel('Time')\n",
    "plt.ylabel('Queue length [m]')\n",
    "plt.grid()\n",
    "plt.tight_layout()\n",
    "plt.show()"
   ],
   "id": "79737fabce3874d9",
   "outputs": [
    {
     "data": {
      "text/plain": [
       "<Figure size 1200x700 with 1 Axes>"
      ],
      "image/png": "[encoded data removed]"
     },
     "metadata": {},
     "output_type": "display_data",
     "jetTransient": {
      "display_id": null
     }
    }
   ],
   "execution_count": 11
  }
 ],
 "metadata": {
  "kernelspec": {
   "display_name": "Python 3",
   "language": "python",
   "name": "python3"
  },
  "language_info": {
   "codemirror_mode": {
    "name": "ipython",
    "version": 2
   },
   "file_extension": ".py",
   "mimetype": "text/x-python",
   "name": "python",
   "nbconvert_exporter": "python",
   "pygments_lexer": "ipython2",
   "version": "2.7.6"
  }
 },
 "nbformat": 4,
 "nbformat_minor": 5
}
